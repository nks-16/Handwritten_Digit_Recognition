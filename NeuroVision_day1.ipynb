{
  "cells": [
    {
      "cell_type": "code",
      "execution_count": null,
      "metadata": {
        "id": "xrMvGNsr6jVT"
      },
      "outputs": [],
      "source": [
        "\"\"\"\n",
        "Import all the necessary libraries\n",
        "Numpy : For numerical computation\n",
        "Matplotlib : for data visualization\n",
        "tensorflow : For building and deploying machine learning models\n",
        "\n",
        "\"\"\"\n",
        "import numpy as np\n",
        "import matplotlib.pyplot as plt\n",
        "import tensorflow as tf\n",
        "\n",
        "\"\"\"\n",
        "Load mnist dataset and segregate it into training data and testing data\n",
        "\n",
        "\"\"\"\n",
        "mnist=tf.keras.datasets.mnist\n",
        "(x_train,y_train),(x_test,y_test)=mnist.load_data()\n",
        "\n",
        "\"\"\"\n",
        "Visualize first 9 images among training data (x_train) along with its labels (y_train)\n",
        "\n",
        "\"\"\"\n",
        "for i in range(9):\n",
        "    plt.subplot(3,3,i+1)\n",
        "    plt.tight_layout()\n",
        "    plt.imshow(x_train[i],cmap='gray')\n",
        "    plt.title(y_train[i])\n",
        "    plt.xticks([])\n",
        "    plt.yticks([])\n",
        "plt.show()\n",
        "\n"
      ]
    },
    {
      "cell_type": "code",
      "execution_count": null,
      "metadata": {
        "id": "lTGD_Vlv7TXS"
      },
      "outputs": [],
      "source": [
        "\n",
        "x_train=tf.keras.utils.normalize(x_train,axis=1)\n",
        "x_test=tf.keras.utils.normalize(x_test,axis=1)\n",
        "\n",
        "# Initialize a sequential model where layers are added in sequence\n",
        "model = tf.keras.models.Sequential()\n",
        "# Add a flatten layer to convert each 28x28 image into a 1D vector (input layer)\n",
        "model.add(tf.keras.layers.Flatten(input_shape=(28, 28)))\n",
        "# Add a dense layer with 128 neurons and ReLU activation function (first hidden layer)\n",
        "model.add(tf.keras.layers.Dense(128, activation='relu'))\n",
        "# Add another dense layer with 128 neurons and ReLU activation function (second hidden layer)\n",
        "model.add(tf.keras.layers.Dense(128, activation='relu'))\n",
        "# Add a dense layer with 10 neurons (output layer) and softmax activation for multi-class classification\n",
        "model.add(tf.keras.layers.Dense(10, activation='softmax'))\n",
        "\n",
        "model.compile(optimizer='adam',loss='sparse_categorical_crossentropy',metrics=['accuracy'])\n",
        "\"\"\"\n",
        "An epoch refers to one complete pass of the entire training set through the model during the training process.\n",
        "epochs=3 means the model will go through the entire training dataset 3 times, adjusting its weights in each pass.\n",
        "\"\"\"\n",
        "model.fit(x_train,y_train,epochs=3)\n",
        "model.save('handwritten.keras')"
      ]
    },
    {
      "cell_type": "code",
      "execution_count": null,
      "metadata": {},
      "outputs": [],
      "source": [
        "model=tf.keras.models.load_model('handwritten.keras')\n",
        "loss,accuracy=model.evaluate(x_test,y_test)\n",
        "print(loss)\n",
        "print(accuracy)"
      ]
    },
    {
      "cell_type": "code",
      "execution_count": null,
      "metadata": {},
      "outputs": [],
      "source": [
        "plt.imshow(x_train[1000],cmap='gray')\n",
        "prediction=model.predict(x_train)\n",
        "print(np.argmax(prediction[1000]))"
      ]
    }
  ],
  "metadata": {
    "colab": {
      "provenance": []
    },
    "kernelspec": {
      "display_name": "Python 3",
      "name": "python3"
    },
    "language_info": {
      "name": "python"
    }
  },
  "nbformat": 4,
  "nbformat_minor": 0
}
